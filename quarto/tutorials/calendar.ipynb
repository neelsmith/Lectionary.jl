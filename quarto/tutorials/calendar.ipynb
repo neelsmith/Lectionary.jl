{
  "cells": [
    {
      "cell_type": "raw",
      "metadata": {},
      "source": [
        "---\n",
        "title: \"The Liturgical Calendar\"\n",
        "---"
      ],
      "id": "97861dd3"
    },
    {
      "cell_type": "markdown",
      "metadata": {},
      "source": [
        "## The `LiturgicalYear`\n",
        "\n",
        "\n",
        "### Constructors\n",
        "\n",
        "The *liturgical year* is modelled by the `LiturgicalYear` type, a central structure in `Lectionary.jl`. You can create a `LiturgicalYear` from a  `Date` object as a single parameter; if you construct a `LiturgicalYear` with no parameter, the date value defaults to today. You can also construct a `LiturgicalYear` with an integer value for the calendar year in which the liturgical year begins (i.e., the year of the civil calendar that Advent falls in).\n"
      ],
      "id": "386e917d"
    },
    {
      "cell_type": "code",
      "metadata": {},
      "source": [
        "#| warning: false\n",
        "using Lectionary\n",
        "lityear = LiturgicalYear(2023)"
      ],
      "id": "31c84fcc",
      "execution_count": null,
      "outputs": []
    },
    {
      "cell_type": "markdown",
      "metadata": {},
      "source": [
        "### Basic facts of the liturgical year\n",
        "\n",
        "Things you can find out about a liturgical year include:\n",
        "\n",
        "\n",
        "-  its place in the three-year cycle of the Revised Commmon Lectionary (identified by one of the characters 'A', 'B' or 'C'):\n"
      ],
      "id": "ed42bb18"
    },
    {
      "cell_type": "code",
      "metadata": {},
      "source": [
        "lectionary_year(lityear)"
      ],
      "id": "ae1f9748",
      "execution_count": null,
      "outputs": []
    },
    {
      "cell_type": "markdown",
      "metadata": {},
      "source": [
        "- its sequence in the Episcopal Church's two-year cycle of Daily Office Readings (identified by an integer value, 1 or 2):\n"
      ],
      "id": "38393d38"
    },
    {
      "cell_type": "code",
      "metadata": {},
      "source": [
        "daily_office_year(lityear)"
      ],
      "id": "29c6ad78",
      "execution_count": null,
      "outputs": []
    },
    {
      "cell_type": "markdown",
      "metadata": {},
      "source": [
        "- the range of its dates (from Advent 1 to the end of the liturgical year) in the civil calendar:\n"
      ],
      "id": "43bf9644"
    },
    {
      "cell_type": "code",
      "metadata": {},
      "source": [
        "date_range(lityear)"
      ],
      "id": "ad55c378",
      "execution_count": null,
      "outputs": []
    },
    {
      "cell_type": "markdown",
      "metadata": {},
      "source": [
        "The result is a range of `Date`s (from the `Dates` package). Of course you can collect them, like any other range value in Julia. Here we can see that the 2023-2024 liturgical year spans 364 days in the civil calendar.\n"
      ],
      "id": "a20e177a"
    },
    {
      "cell_type": "code",
      "metadata": {},
      "source": [
        "date_range(lityear) |> collect |> length"
      ],
      "id": "c69c3994",
      "execution_count": null,
      "outputs": []
    },
    {
      "cell_type": "markdown",
      "metadata": {},
      "source": [
        "- a full calendar of dates with assigned readings in the RCL (all Sundays and feast days):\n"
      ],
      "id": "930d151e"
    },
    {
      "cell_type": "code",
      "metadata": {},
      "source": [
        "kalendar(lityear)"
      ],
      "id": "280aa5d8",
      "execution_count": null,
      "outputs": []
    },
    {
      "cell_type": "markdown",
      "metadata": {},
      "source": [
        "The result is a Vector of `LiturgicalDay`s.\n",
        "\n",
        "\n",
        "\n",
        "## The `LiturgicalDay`\n",
        "\n",
        "The `LiturgicalDay` is an abstract type with concrete implementations:\n",
        "\n",
        "- `Feast`: feasts of the liturgical year other than Sundays with assigned readings in the RCL. (The movable feasts could coincide with a Sunday.)\n",
        "- `Sunday`:  the Sundays of the liturgical year\n",
        "- `OtherDay`: days of the year with no assigned reading.\n",
        "\n",
        "\n",
        "Any date in the civil calendar can be mapped to a `LiturgicalDay`.\n"
      ],
      "id": "87bcaf06"
    },
    {
      "cell_type": "code",
      "metadata": {},
      "source": [
        "using Dates\n",
        "liturgical_day(Date(2024,4,1))"
      ],
      "id": "f334f7e0",
      "execution_count": null,
      "outputs": []
    },
    {
      "cell_type": "markdown",
      "metadata": {},
      "source": [
        "You can find types of days for a liturgical year.\n"
      ],
      "id": "addab47d"
    },
    {
      "cell_type": "code",
      "metadata": {},
      "source": [
        "holy_days(lityear)"
      ],
      "id": "05e7bd30",
      "execution_count": null,
      "outputs": []
    },
    {
      "cell_type": "markdown",
      "metadata": {},
      "source": [
        "## Seasons of the year\n",
        "\n",
        "Numerous functions let you find the holy days belonging to a season of the liturgical year.\n",
        "\n",
        "\n",
        "\n",
        "- advent\n",
        "- christmastide\n",
        "- epiphany"
      ],
      "id": "26ff6192"
    }
  ],
  "metadata": {
    "kernelspec": {
      "name": "julia-1.10",
      "language": "julia",
      "display_name": "Julia 1.10.0"
    }
  },
  "nbformat": 4,
  "nbformat_minor": 5
}